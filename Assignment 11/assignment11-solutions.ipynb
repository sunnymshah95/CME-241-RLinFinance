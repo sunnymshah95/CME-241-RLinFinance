{
 "cells": [
  {
   "cell_type": "code",
   "execution_count": 1,
   "metadata": {},
   "outputs": [],
   "source": [
    "import sys\n",
    "sys.path.append(\"../\")\n",
    "\n",
    "import itertools\n",
    "import numpy as np\n",
    "from pprint import pprint\n",
    "from collections import defaultdict\n",
    "from typing import Iterable, TypeVar, Mapping, List, Tuple, Sequence, Callable\n",
    "\n",
    "from rl.returns import returns\n",
    "from rl.td import td_prediction\n",
    "from rl.distribution import Choose\n",
    "from rl.monte_carlo import mc_prediction\n",
    "from rl.markov_process import TransitionStep, ReturnStep\n",
    "from rl.function_approx import LinearFunctionApprox, AdamGradient, FunctionApprox\n",
    "from rl.chapter2.simple_inventory_mrp import SimpleInventoryMRPFinite, InventoryState\n",
    "from rl.chapter10.prediction_utils import mc_prediction_learning_rate, td_prediction_learning_rate"
   ]
  },
  {
   "cell_type": "markdown",
   "metadata": {},
   "source": [
    "# Question 1: Implementing Tabular MC for Prediction"
   ]
  },
  {
   "cell_type": "code",
   "execution_count": 2,
   "metadata": {},
   "outputs": [],
   "source": [
    "S = TypeVar(\"S\")\n",
    "\n",
    "def TabularMCPrediction(traces : Iterable[Iterable[TransitionStep[S]]],\n",
    "                        gamma : float = 0.9, episode_tol : float = 1e-6, num_traces : int = 1000) -> Mapping[S, float]:\n",
    "    episodes : Iterator[ReturnStep[S]] = (returns(trace, gamma, episode_tol) for trace in traces)\n",
    "    vf : Dict[S, float] = defaultdict(float)\n",
    "    counts : Dict[S, int] = defaultdict(lambda : int(1))\n",
    "\n",
    "    num_episodes = int(np.log(episode_tol) / np.log(gamma))\n",
    "\n",
    "    for n, episode in enumerate(itertools.islice(episodes, num_traces)):\n",
    "        for tr in itertools.islice(episode, num_episodes):\n",
    "            vf[tr.state] += (tr.return_ - vf[tr.state]) / (counts[tr.state] * n + 1)\n",
    "            counts[tr.state] += 1\n",
    "\n",
    "    return vf"
   ]
  },
  {
   "cell_type": "markdown",
   "metadata": {},
   "source": [
    "# Question 2: Implementing Tabular TD for Prediction"
   ]
  },
  {
   "cell_type": "code",
   "execution_count": 3,
   "metadata": {},
   "outputs": [],
   "source": [
    "def TabularTDPrediction(traces: Iterable[TransitionStep[S]], vf : Mapping[S, float], gamma : float = 0.9,\n",
    "                        init_lr : float = 0.05, half_life : float = 1000.0, exp : float = 0.5) -> Mapping[S, float]:\n",
    "    counts : Dict[S, int] = defaultdict(lambda : int(1))\n",
    "\n",
    "    for n, tr in enumerate(traces):\n",
    "        lr = init_lr / (1 + ((counts[tr.state] - 1) / half_life) ** exp)\n",
    "        vf[tr.state] += lr * (tr.reward + gamma * vf[tr.next_state] - vf[tr.state])\n",
    "        counts[tr.state] += 1\n",
    "    \n",
    "    return vf"
   ]
  },
  {
   "cell_type": "markdown",
   "metadata": {},
   "source": [
    "# Question 3A: testing `TabularMCPrediction` on `SimpleInventoryMRPFinite`:"
   ]
  },
  {
   "cell_type": "code",
   "execution_count": 4,
   "metadata": {},
   "outputs": [
    {
     "name": "stdout",
     "output_type": "stream",
     "text": [
      "Exact Value Function:\n",
      "{NonTerminal(state=InventoryState(on_hand=2, on_order=0)): -30.345,\n",
      " NonTerminal(state=InventoryState(on_hand=1, on_order=0)): -28.932,\n",
      " NonTerminal(state=InventoryState(on_hand=1, on_order=1)): -29.345,\n",
      " NonTerminal(state=InventoryState(on_hand=0, on_order=1)): -27.932,\n",
      " NonTerminal(state=InventoryState(on_hand=0, on_order=0)): -35.511,\n",
      " NonTerminal(state=InventoryState(on_hand=0, on_order=2)): -28.345}\n",
      "\n"
     ]
    }
   ],
   "source": [
    "from rl.chapter2.simple_inventory_mrp import *\n",
    "\n",
    "user_capacity = 2\n",
    "user_poisson_lambda = 1.0\n",
    "user_holding_cost = 1.0\n",
    "user_stockout_cost = 10.0\n",
    "user_gamma = 0.9\n",
    "\n",
    "si_mrp = SimpleInventoryMRPFinite(capacity=user_capacity,\n",
    "                                  poisson_lambda=user_poisson_lambda,\n",
    "                                  holding_cost=user_holding_cost,\n",
    "                                  stockout_cost=user_stockout_cost)\n",
    "\n",
    "print(\"Exact Value Function:\")\n",
    "si_mrp.display_value_function(gamma=user_gamma)\n",
    "print()"
   ]
  },
  {
   "cell_type": "markdown",
   "metadata": {},
   "source": [
    "### Tabular MC Prediction:"
   ]
  },
  {
   "cell_type": "code",
   "execution_count": 5,
   "metadata": {},
   "outputs": [
    {
     "name": "stdout",
     "output_type": "stream",
     "text": [
      "Value Function from Tabular MC Prediction:\n",
      "{NonTerminal(state=InventoryState(on_hand=2, on_order=0)): -28.589,\n",
      " NonTerminal(state=InventoryState(on_hand=1, on_order=0)): -28.693,\n",
      " NonTerminal(state=InventoryState(on_hand=1, on_order=1)): -29.569,\n",
      " NonTerminal(state=InventoryState(on_hand=0, on_order=1)): -26.09,\n",
      " NonTerminal(state=InventoryState(on_hand=0, on_order=0)): -34.893,\n",
      " NonTerminal(state=InventoryState(on_hand=0, on_order=2)): -27.645}\n",
      "\n"
     ]
    }
   ],
   "source": [
    "traces : Iterable[Iterable[TransitionStep[InventoryState]]] = si_mrp.reward_traces(Choose(si_mrp.non_terminal_states))\n",
    "\n",
    "mc_vf = TabularMCPrediction(traces=traces, gamma=user_gamma, episode_tol=1e-3, num_traces=10000)\n",
    "print(\"Value Function from Tabular MC Prediction:\")\n",
    "pprint({s : round(mc_vf[s], 3) for s in si_mrp.non_terminal_states})\n",
    "print()"
   ]
  },
  {
   "cell_type": "markdown",
   "metadata": {},
   "source": [
    "### Tabular TD Prediction:"
   ]
  },
  {
   "cell_type": "code",
   "execution_count": 6,
   "metadata": {},
   "outputs": [
    {
     "name": "stdout",
     "output_type": "stream",
     "text": [
      "Value Function from Tabular MC Prediction:\n",
      "{NonTerminal(state=InventoryState(on_hand=2, on_order=0)): -30.112,\n",
      " NonTerminal(state=InventoryState(on_hand=1, on_order=0)): -28.768,\n",
      " NonTerminal(state=InventoryState(on_hand=1, on_order=1)): -29.242,\n",
      " NonTerminal(state=InventoryState(on_hand=0, on_order=1)): -27.637,\n",
      " NonTerminal(state=InventoryState(on_hand=0, on_order=0)): -35.425,\n",
      " NonTerminal(state=InventoryState(on_hand=0, on_order=2)): -28.162}\n",
      "\n"
     ]
    }
   ],
   "source": [
    "import itertools \n",
    "num_traces = 1000\n",
    "num_episodes = 1000\n",
    "\n",
    "traces : Iterable[Iterable[TransitionStep[InventoryState]]] = si_mrp.reward_traces(Choose(si_mrp.non_terminal_states))\n",
    "traces = [j for i in itertools.islice(traces, num_episodes) for j in itertools.islice(i, num_traces)]\n",
    "\n",
    "mc_vf = TabularTDPrediction(traces=traces, gamma=user_gamma, vf={s : 0.0 for s in si_mrp.non_terminal_states})\n",
    "print(\"Value Function from Tabular MC Prediction:\")\n",
    "pprint({s : round(mc_vf[s], 3) for s in si_mrp.non_terminal_states})\n",
    "print()"
   ]
  },
  {
   "cell_type": "code",
   "execution_count": null,
   "metadata": {},
   "outputs": [],
   "source": []
  },
  {
   "cell_type": "code",
   "execution_count": null,
   "metadata": {},
   "outputs": [],
   "source": []
  },
  {
   "cell_type": "code",
   "execution_count": null,
   "metadata": {},
   "outputs": [],
   "source": []
  }
 ],
 "metadata": {
  "interpreter": {
   "hash": "b0fa6594d8f4cbf19f97940f81e996739fb7646882a419484c72d19e05852a7e"
  },
  "kernelspec": {
   "display_name": "Python 3.9.10 64-bit",
   "language": "python",
   "name": "python3"
  },
  "language_info": {
   "codemirror_mode": {
    "name": "ipython",
    "version": 3
   },
   "file_extension": ".py",
   "mimetype": "text/x-python",
   "name": "python",
   "nbconvert_exporter": "python",
   "pygments_lexer": "ipython3",
   "version": "3.9.10"
  },
  "orig_nbformat": 4
 },
 "nbformat": 4,
 "nbformat_minor": 2
}
