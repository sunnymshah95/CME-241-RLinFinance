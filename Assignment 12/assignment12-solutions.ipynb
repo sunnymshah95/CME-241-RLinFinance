{
 "cells": [
  {
   "cell_type": "code",
   "execution_count": 1,
   "metadata": {},
   "outputs": [],
   "source": [
    "import sys \n",
    "sys.path.append(\"../\")\n",
    "\n",
    "import itertools\n",
    "import numpy as np\n",
    "from pprint import pprint\n",
    "from rl.returns import returns\n",
    "import rl.markov_process as mp\n",
    "import matplotlib.pyplot as plt \n",
    "from rl.distribution import Choose\n",
    "from collections import defaultdict\n",
    "from typing import Iterable, TypeVar, Dict, Mapping, Callable\n",
    "from rl.approximate_dynamic_programming import ValueFunctionApprox\n",
    "from rl.function_approx import Gradient, Tabular, learning_rate_schedule\n",
    "from rl.chapter10.prediction_utils import fmrp_episodes_stream, unit_experiences_from_episodes\n",
    "\n",
    "\n",
    "plt.rcParams['figure.figsize'] = (15, 7)"
   ]
  },
  {
   "cell_type": "markdown",
   "metadata": {},
   "source": [
    "## Question 1: TD $(\\lambda)$ algorithm from scratch:\n",
    "### Part A - `Tabular` case"
   ]
  },
  {
   "cell_type": "code",
   "execution_count": 2,
   "metadata": {},
   "outputs": [],
   "source": [
    "S = TypeVar(\"S\")\n",
    "\n",
    "\n",
    "\n",
    "def TabularTDLambdaPrediction(traces: Iterable[Iterable[mp.TransitionStep[S]]], vf : Mapping[S, float], gamma : float = 0.9,\n",
    "                              lambd : float = 0.2, lr_f : Callable[[int], float] = learning_rate_schedule(0.01, 10000.0, 0.5)) -> Iterable[Mapping[S, float]]:\n",
    "    counts : Dict[S, int] = defaultdict(lambda : int(1))\n",
    "    nt_states = vf.keys()\n",
    "\n",
    "    for n, trace in enumerate(traces):\n",
    "        el_tr: Dict[S, float] = {s : 0.0 for s in nt_states}\n",
    "        for step in trace:\n",
    "            el_tr = {s : el_tr[s] * gamma * lambd + (1.0 if step.state == s else 0.0) for s in el_tr}\n",
    "            td_error = step.reward + gamma * vf[step.next_state] - vf[step.state]\n",
    "            vf = {s : vf[s] + lr_f(n) * td_error * el_tr[s] for s in nt_states}\n",
    "            yield vf"
   ]
  },
  {
   "cell_type": "markdown",
   "metadata": {},
   "source": [
    "## Question 4: testing out my implementations\n",
    "### Exact solution for `SimpleInventoryMRPFinite`:"
   ]
  },
  {
   "cell_type": "code",
   "execution_count": 3,
   "metadata": {},
   "outputs": [
    {
     "name": "stdout",
     "output_type": "stream",
     "text": [
      "Exact Value Function:\n",
      "----------------------------------------\n",
      "{NonTerminal(state=InventoryState(on_hand=0, on_order=2)): -28.345,\n",
      " NonTerminal(state=InventoryState(on_hand=1, on_order=0)): -28.932,\n",
      " NonTerminal(state=InventoryState(on_hand=0, on_order=1)): -27.932,\n",
      " NonTerminal(state=InventoryState(on_hand=0, on_order=0)): -35.511,\n",
      " NonTerminal(state=InventoryState(on_hand=1, on_order=1)): -29.345,\n",
      " NonTerminal(state=InventoryState(on_hand=2, on_order=0)): -30.345}\n",
      "\n"
     ]
    }
   ],
   "source": [
    "from rl.chapter2.simple_inventory_mrp import *\n",
    "\n",
    "user_capacity = 2\n",
    "user_poisson_lambda = 1.0\n",
    "user_holding_cost = 1.0\n",
    "user_stockout_cost = 10.0\n",
    "user_gamma = 0.9\n",
    "\n",
    "si_mrp = SimpleInventoryMRPFinite(capacity=user_capacity,\n",
    "                                  poisson_lambda=user_poisson_lambda,\n",
    "                                  holding_cost=user_holding_cost,\n",
    "                                  stockout_cost=user_stockout_cost)\n",
    "\n",
    "print(\"Exact Value Function:\")\n",
    "print(\"--\" * 20)\n",
    "si_mrp.display_value_function(gamma=user_gamma)\n",
    "print()"
   ]
  },
  {
   "cell_type": "markdown",
   "metadata": {},
   "source": [
    "### Tabular MC Prediction:"
   ]
  },
  {
   "cell_type": "code",
   "execution_count": 4,
   "metadata": {},
   "outputs": [
    {
     "name": "stdout",
     "output_type": "stream",
     "text": [
      "Value Function from Tabular MC Prediction:\n",
      "----------------------------------------\n",
      "{NonTerminal(state=InventoryState(on_hand=0, on_order=2)): -28.21,\n",
      " NonTerminal(state=InventoryState(on_hand=1, on_order=0)): -28.819,\n",
      " NonTerminal(state=InventoryState(on_hand=0, on_order=1)): -27.888,\n",
      " NonTerminal(state=InventoryState(on_hand=0, on_order=0)): -35.398,\n",
      " NonTerminal(state=InventoryState(on_hand=1, on_order=1)): -29.193,\n",
      " NonTerminal(state=InventoryState(on_hand=2, on_order=0)): -30.292}\n",
      "\n"
     ]
    }
   ],
   "source": [
    "S = TypeVar(\"S\")\n",
    "\n",
    "def TabularMCPrediction(traces : Iterable[Iterable[mp.TransitionStep[S]]],\n",
    "                        gamma : float = 0.9, episode_tol : float = 1e-6, num_traces : int = 1000) -> Mapping[S, float]:\n",
    "    episodes : Iterator[ReturnStep[S]] = (returns(trace, gamma, episode_tol) for trace in traces)\n",
    "    vf : Dict[S, float] = defaultdict(float)\n",
    "    counts : Dict[S, int] = defaultdict(lambda : int(1))\n",
    "\n",
    "    num_episodes = int(np.log(episode_tol) / np.log(gamma))\n",
    "\n",
    "    for episode in itertools.islice(episodes, num_traces):\n",
    "        for tr in itertools.islice(episode, num_episodes):\n",
    "            vf[tr.state] += (tr.return_ - vf[tr.state]) / (counts[tr.state] + 1)\n",
    "            counts[tr.state] += 1\n",
    "\n",
    "    return vf\n",
    "\n",
    "\n",
    "\n",
    "\n",
    "\n",
    "\n",
    "traces : Iterable[Iterable[mp.TransitionStep[InventoryState]]] = si_mrp.reward_traces(Choose(si_mrp.non_terminal_states))\n",
    "\n",
    "mc_vf = TabularMCPrediction(traces=traces, gamma=user_gamma, episode_tol=1e-6, num_traces=1000)\n",
    "print(\"Value Function from Tabular MC Prediction:\")\n",
    "print(\"--\" * 20)\n",
    "pprint({s : round(mc_vf[s], 3) for s in si_mrp.non_terminal_states})\n",
    "print()"
   ]
  },
  {
   "cell_type": "markdown",
   "metadata": {},
   "source": [
    "### Tabular TD Prediction:"
   ]
  },
  {
   "cell_type": "code",
   "execution_count": 5,
   "metadata": {},
   "outputs": [
    {
     "name": "stdout",
     "output_type": "stream",
     "text": [
      "Value Function from Tabular TD Prediction:\n",
      "----------------------------------------\n",
      "{NonTerminal(state=InventoryState(on_hand=0, on_order=2)): -26.656,\n",
      " NonTerminal(state=InventoryState(on_hand=1, on_order=0)): -27.384,\n",
      " NonTerminal(state=InventoryState(on_hand=0, on_order=1)): -26.464,\n",
      " NonTerminal(state=InventoryState(on_hand=0, on_order=0)): -33.801,\n",
      " NonTerminal(state=InventoryState(on_hand=1, on_order=1)): -27.674,\n",
      " NonTerminal(state=InventoryState(on_hand=2, on_order=0)): -28.628}\n",
      "\n"
     ]
    }
   ],
   "source": [
    "def TabularTDPrediction(traces: Iterable[mp.TransitionStep[S]], vf : Mapping[S, float], gamma : float = 0.9,\n",
    "                        lr_f : Callable[[int], float] = learning_rate_schedule(0.01, 10000.0, 0.5)) -> Mapping[S, float]:\n",
    "    counts : Dict[S, int] = defaultdict(lambda : int(1))\n",
    "\n",
    "    for n, tr in enumerate(traces):\n",
    "        vf[tr.state] += lr_f(n) * (tr.reward + gamma * vf[tr.next_state] - vf[tr.state])\n",
    "        counts[tr.state] += 1\n",
    "    \n",
    "    return vf\n",
    "\n",
    "\n",
    "\n",
    "\n",
    "\n",
    "init_lr = 0.01\n",
    "half_life = 1000\n",
    "exp = 0.5\n",
    "\n",
    "num_traces = 1000\n",
    "num_episodes = 100\n",
    "\n",
    "episodes : Iterable[Iterable[mp.TransitionStep[InventoryState]]] = si_mrp.reward_traces(Choose(si_mrp.non_terminal_states))\n",
    "traces : Iterable[mp.TransitionStep[InventoryState]] = unit_experiences_from_episodes(episodes, num_episodes)\n",
    "lr_f = learning_rate_schedule(init_lr, half_life, exp)\n",
    "\n",
    "td_vf = TabularTDPrediction(traces=itertools.islice(traces, num_episodes * num_traces), gamma=user_gamma, vf={s : 0.0 for s in si_mrp.non_terminal_states}, lr_f = lr_f)\n",
    "print(\"Value Function from Tabular TD Prediction:\")\n",
    "print(\"--\" * 20)\n",
    "pprint({s : round(td_vf[s], 3) for s in si_mrp.non_terminal_states})\n",
    "print()"
   ]
  },
  {
   "cell_type": "markdown",
   "metadata": {},
   "source": [
    "### Tabular TD $(\\lambda)$ Prediction:"
   ]
  },
  {
   "cell_type": "code",
   "execution_count": 6,
   "metadata": {},
   "outputs": [
    {
     "name": "stdout",
     "output_type": "stream",
     "text": [
      "Value Function from Tabular TD lambda Prediction:\n",
      "----------------------------------------\n",
      "{NonTerminal(state=InventoryState(on_hand=0, on_order=2)): -26.656,\n",
      " NonTerminal(state=InventoryState(on_hand=1, on_order=0)): -27.384,\n",
      " NonTerminal(state=InventoryState(on_hand=0, on_order=1)): -26.464,\n",
      " NonTerminal(state=InventoryState(on_hand=0, on_order=0)): -33.801,\n",
      " NonTerminal(state=InventoryState(on_hand=1, on_order=1)): -27.674,\n",
      " NonTerminal(state=InventoryState(on_hand=2, on_order=0)): -28.628}\n",
      "\n"
     ]
    }
   ],
   "source": [
    "init_lr = 0.01\n",
    "half_life = 1000\n",
    "exp = 0.5\n",
    "\n",
    "num_traces = 1000\n",
    "num_episodes = 100\n",
    "\n",
    "episodes : Iterable[Iterable[mp.TransitionStep[InventoryState]]] = si_mrp.reward_traces(Choose(si_mrp.non_terminal_states))\n",
    "lr_f = learning_rate_schedule(init_lr, half_life, exp)\n",
    "\n",
    "vf_it = TabularTDLambdaPrediction(traces=episodes, vf={s : 0.0 for s in si_mrp.non_terminal_states}, \n",
    "                                  gamma=user_gamma, lambd = 0.6, lr_f=lr_f)\n",
    "\n",
    "*_, final_vf = itertools.islice(vf_it, num_traces * num_episodes)\n",
    "print(\"Value Function from Tabular TD lambda Prediction:\")\n",
    "print(\"--\" * 20)\n",
    "pprint({s : round(td_vf[s], 3) for s in si_mrp.non_terminal_states})\n",
    "print()"
   ]
  },
  {
   "cell_type": "markdown",
   "metadata": {},
   "source": [
    "### Plotting the convergence of the algorithm for different values of $\\lambda$:"
   ]
  },
  {
   "cell_type": "code",
   "execution_count": 7,
   "metadata": {},
   "outputs": [],
   "source": [
    "init_lr = 0.01\n",
    "half_life = 1000\n",
    "exp = 0.5\n",
    "\n",
    "num_traces = 1000\n",
    "num_episodes = 100\n",
    "\n",
    "episodes : Iterable[Iterable[mp.TransitionStep[InventoryState]]] = si_mrp.reward_traces(Choose(si_mrp.non_terminal_states))\n",
    "lr_f = learning_rate_schedule(init_lr, half_life, exp)\n",
    "\n",
    "lambdas = np.linspace(0.0, 1.0, 20)\n",
    "\n",
    "true_vf = si_mrp.get_value_function_vec(gamma=user_gamma)\n",
    "mc_vf = np.array([mc_vf[s] for s in si_mrp.non_terminal_states])\n",
    "td_vf = np.array([td_vf[s] for s in si_mrp.non_terminal_states])\n",
    "td_errors = []\n",
    "\n",
    "for lambd in lambdas:\n",
    "    vf_it = TabularTDLambdaPrediction(traces=episodes, vf={s : 0.0 for s in si_mrp.non_terminal_states}, \n",
    "                                    gamma=user_gamma, lambd = lambd, lr_f=lr_f)\n",
    "\n",
    "    *_, final_vf = itertools.islice(vf_it, num_traces * num_episodes)\n",
    "    v = np.array([final_vf[s] for s in si_mrp.non_terminal_states])\n",
    "    td_errors.append(np.linalg.norm(v - true_vf))"
   ]
  },
  {
   "cell_type": "code",
   "execution_count": 8,
   "metadata": {},
   "outputs": [
    {
     "data": {
      "image/png": "[encoded data removed]",
      "text/plain": [
       "<Figure size 1080x504 with 1 Axes>"
      ]
     },
     "metadata": {
      "needs_background": "light"
     },
     "output_type": "display_data"
    }
   ],
   "source": [
    "plt.plot(lambdas, [np.linalg.norm(mc_vf - true_vf)] * len(lambdas), label='Tabular MC')\n",
    "plt.plot(lambdas, [np.linalg.norm(td_vf - true_vf)] * len(lambdas), label='Tabular TD')\n",
    "plt.plot(lambdas, td_errors, label='Tabular TD$(\\lambda)$')\n",
    "\n",
    "plt.xlabel(\"$\\lambda$\")\n",
    "plt.ylabel(\"Norm of the error\")\n",
    "plt.title(\"Convergence of the 3 algorithms towards true value function as a function of $\\lambda$\")\n",
    "plt.legend()\n",
    "plt.show()"
   ]
  }
 ],
 "metadata": {
  "interpreter": {
   "hash": "b0fa6594d8f4cbf19f97940f81e996739fb7646882a419484c72d19e05852a7e"
  },
  "kernelspec": {
   "display_name": "Python 3.9.10 64-bit",
   "language": "python",
   "name": "python3"
  },
  "language_info": {
   "codemirror_mode": {
    "name": "ipython",
    "version": 3
   },
   "file_extension": ".py",
   "mimetype": "text/x-python",
   "name": "python",
   "nbconvert_exporter": "python",
   "pygments_lexer": "ipython3",
   "version": "3.9.10"
  },
  "orig_nbformat": 4
 },
 "nbformat": 4,
 "nbformat_minor": 2
}
