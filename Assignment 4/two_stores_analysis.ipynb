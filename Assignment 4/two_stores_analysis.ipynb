{
 "cells": [
  {
   "cell_type": "code",
   "execution_count": 1,
   "metadata": {},
   "outputs": [],
   "source": [
    "from two_stores import *\n",
    "import sys\n",
    "sys.path.append(\"../\")\n",
    "from rl.dynamic_programming import value_iteration_result\n",
    "from typing import Tuple"
   ]
  },
  {
   "cell_type": "markdown",
   "metadata": {},
   "source": [
    "# I will be changing different parameters for this problem and investigating the optimal value function and optimal policy"
   ]
  },
  {
   "cell_type": "code",
   "execution_count": 2,
   "metadata": {},
   "outputs": [],
   "source": [
    "capacity_1 = 2\n",
    "capacity_2 = 2\n",
    "poisson_lambda_1 = 2.0\n",
    "poisson_lambda_2 = 1.0\n",
    "holding_cost_1 = 1.0\n",
    "holding_cost_2 = 3.0\n",
    "stockout_cost_1 = 10.0\n",
    "stockout_cost_2 = 24.0\n",
    "transport_cost_1 = 10.0\n",
    "transport_cost_2 = 9.0\n",
    "\n",
    "user_gamma = 0.9\n",
    "\n",
    "si_mdp: FiniteMarkovDecisionProcess[InventoryState, Tuple[int, int, int]] =\\\n",
    "    TwoStoresInventoryControl(\n",
    "        capacity_1=capacity_1,\n",
    "        capacity_2=capacity_2,\n",
    "        poisson_lambda_1=poisson_lambda_1,\n",
    "        poisson_lambda_2=poisson_lambda_2,\n",
    "        holding_cost_1=holding_cost_1,\n",
    "        holding_cost_2=holding_cost_2,\n",
    "        stockout_cost_1=stockout_cost_1,\n",
    "        stockout_cost_2=stockout_cost_2,\n",
    "        transport_cost_1=transport_cost_1,\n",
    "        transport_cost_2=transport_cost_2\n",
    "    )"
   ]
  },
  {
   "cell_type": "code",
   "execution_count": 5,
   "metadata": {},
   "outputs": [],
   "source": [
    "opt_vf_vi, opt_policy_vi = value_iteration_result(si_mdp, gamma=user_gamma)"
   ]
  },
  {
   "cell_type": "markdown",
   "metadata": {},
   "source": [
    "# Will investigate the capacity of Store 1 on the Optimal Cost (minimum cost)"
   ]
  },
  {
   "cell_type": "code",
   "execution_count": null,
   "metadata": {},
   "outputs": [],
   "source": []
  }
 ],
 "metadata": {
  "interpreter": {
   "hash": "5cf85fc50191c4d2730cc3a096fd3f3fcc5897f66283210e0cb246efbc6a74ac"
  },
  "kernelspec": {
   "display_name": "Python 3.9.7 64-bit ('base': conda)",
   "language": "python",
   "name": "python3"
  },
  "language_info": {
   "codemirror_mode": {
    "name": "ipython",
    "version": 3
   },
   "file_extension": ".py",
   "mimetype": "text/x-python",
   "name": "python",
   "nbconvert_exporter": "python",
   "pygments_lexer": "ipython3",
   "version": "3.9.7"
  },
  "orig_nbformat": 4
 },
 "nbformat": 4,
 "nbformat_minor": 2
}
