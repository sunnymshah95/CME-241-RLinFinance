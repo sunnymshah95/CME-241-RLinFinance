{
 "cells": [
  {
   "cell_type": "code",
   "execution_count": 41,
   "metadata": {},
   "outputs": [],
   "source": [
    "import sys\n",
    "sys.path.append(\"../\")\n",
    "\n",
    "import numpy as np\n",
    "import itertools\n",
    "from dataclasses import dataclass, field\n",
    "from typing import Optional\n",
    "from rl.chapter9.order_book import *\n",
    "from rl.markov_process import *\n",
    "from rl.distribution import Choose, Distribution, Gaussian, SampledDistribution, Poisson"
   ]
  },
  {
   "cell_type": "code",
   "execution_count": 42,
   "metadata": {},
   "outputs": [],
   "source": [
    "@dataclass(frozen=True)\n",
    "class OrderBookSimulator(MarkovProcess):\n",
    "    transitions : Dict[str, Distribution]\n",
    "    num_orders : int\n",
    "    order_types : List[str]\n",
    "    order_weights : List[float]\n",
    "\n",
    "    def transition(self, state: OrderBook) -> Optional[Distribution[OrderBook]]:\n",
    "        if not state.ascending_asks or not state.descending_bids:\n",
    "            return None\n",
    "\n",
    "        next_states = []\n",
    "        for _ in range(self.num_orders):\n",
    "            order_type = np.random.choice(self.order_types, p=self.order_weights)\n",
    "            \n",
    "            if order_type == 'market-buy':\n",
    "                new_shares = self.transitions['market-shares'].sample()\n",
    "                _, next_state = state.buy_market_order(shares=new_shares)\n",
    "\n",
    "            elif order_type == 'market-sell':\n",
    "                new_shares = self.transitions['market-shares'].sample()\n",
    "                _, next_state = state.sell_market_order(shares=new_shares)\n",
    "            \n",
    "            elif order_type == 'limit-buy':\n",
    "                new_price = self.transitions['limit-price'].sample()\n",
    "                new_shares = self.transitions['limit-shares'].sample()\n",
    "                _, next_state = state.buy_limit_order(price=new_price, shares=new_shares)\n",
    "            \n",
    "            elif order_type == 'limit-sell':\n",
    "                new_price = self.transitions['limit-price'].sample()\n",
    "                new_shares = self.transitions['limit-shares'].sample()\n",
    "                _, next_state = state.sell_limit_order(price=new_price, shares=new_shares)\n",
    "        \n",
    "        return Choose(next_states)"
   ]
  },
  {
   "cell_type": "code",
   "execution_count": 43,
   "metadata": {},
   "outputs": [
    {
     "name": "stdout",
     "output_type": "stream",
     "text": [
      "OrderBook(descending_bids=[DollarsAndShares(dollars=66.26, shares=35), DollarsAndShares(dollars=58.68, shares=56), DollarsAndShares(dollars=58.56, shares=111), DollarsAndShares(dollars=52.18, shares=73), DollarsAndShares(dollars=46.71, shares=49)], ascending_asks=[DollarsAndShares(dollars=28.18, shares=44), DollarsAndShares(dollars=41.01, shares=35), DollarsAndShares(dollars=45.5, shares=56), DollarsAndShares(dollars=47.02, shares=92), DollarsAndShares(dollars=53.83, shares=52)])\n"
     ]
    },
    {
     "data": {
      "image/png": "[encoded data removed]",
      "text/plain": [
       "<Figure size 432x288 with 1 Axes>"
      ]
     },
     "metadata": {
      "needs_background": "light"
     },
     "output_type": "display_data"
    }
   ],
   "source": [
    "num_asks = 5\n",
    "num_bids = 5\n",
    "\n",
    "prices : Sequence[float] = np.abs(np.random.normal(loc=50.0, scale=15, size=num_asks))\n",
    "shares : Sequence[int] = np.random.randint(10, 120, size=num_asks)\n",
    "\n",
    "asks_list = sorted([DollarsAndShares(dollars=round(p, 2), shares=s) for p, s in zip(prices, shares)], key=lambda x : x.dollars)\n",
    "\n",
    "prices : Sequence[float] = np.abs(np.random.normal(loc=50.0, scale=15, size=num_asks))\n",
    "shares : Sequence[int] = np.random.randint(10, 120, size=num_asks)\n",
    "\n",
    "bids_list = sorted([DollarsAndShares(dollars=round(p, 2), shares=s) for p, s in zip(prices, shares)], key=lambda x : x.dollars, reverse=True)\n",
    "\n",
    "\n",
    "\n",
    "book : OrderBook = OrderBook(descending_bids=bids_list, ascending_asks=asks_list)\n",
    "print(book)\n",
    "book.display_order_book()"
   ]
  },
  {
   "cell_type": "code",
   "execution_count": 44,
   "metadata": {},
   "outputs": [],
   "source": [
    "transitions = {# 'market-shares' : Poisson(20),\n",
    "               'market-shares' : Gaussian(20, 4).apply(lambda x : Choose(list(x))), \n",
    "               'limit-price' : SampledDistribution(sampler=lambda : np.random.uniform(40, 61)), \n",
    "               'limit-shares' : SampledDistribution(sampler=lambda : np.random.randint(30, 41))}\n",
    "\n",
    "simulator = OrderBookSimulator(transitions=transitions, num_orders=10, order_types=['market-buy', 'market-sell', 'limit-buy', 'limit-sell'], order_weights=[0.0, 0.0, 0.5, 0.5])"
   ]
  },
  {
   "cell_type": "code",
   "execution_count": 57,
   "metadata": {},
   "outputs": [
    {
     "name": "stdout",
     "output_type": "stream",
     "text": [
      "[OrderBook(descending_bids=[DollarsAndShares(dollars=66.26, shares=35), DollarsAndShares(dollars=58.68, shares=56), DollarsAndShares(dollars=58.56, shares=111), DollarsAndShares(dollars=52.18, shares=73), DollarsAndShares(dollars=46.71, shares=49)], ascending_asks=[DollarsAndShares(dollars=28.18, shares=44), DollarsAndShares(dollars=41.01, shares=35), DollarsAndShares(dollars=45.5, shares=56), DollarsAndShares(dollars=47.02, shares=92), DollarsAndShares(dollars=53.83, shares=52)])]\n",
      "\n",
      "[OrderBook(descending_bids=[DollarsAndShares(dollars=66.26, shares=35), DollarsAndShares(dollars=58.68, shares=56), DollarsAndShares(dollars=58.56, shares=111), DollarsAndShares(dollars=52.18, shares=73), DollarsAndShares(dollars=46.71, shares=49)], ascending_asks=[DollarsAndShares(dollars=28.18, shares=44), DollarsAndShares(dollars=41.01, shares=35), DollarsAndShares(dollars=45.5, shares=56), DollarsAndShares(dollars=47.02, shares=92), DollarsAndShares(dollars=53.83, shares=52)])]\n",
      "\n"
     ]
    }
   ],
   "source": [
    "ob_generator = simulator.simulate(start_state_distribution=Choose([book]))\n",
    "\n",
    "episodes = [[i for i in itertools.islice(trace, 3)] for trace in itertools.islice(simulator.traces(Choose([book])), 2)]\n",
    "\n",
    "for e in episodes:\n",
    "    print(e)\n",
    "    print()"
   ]
  }
 ],
 "metadata": {
  "interpreter": {
   "hash": "31f2aee4e71d21fbe5cf8b01ff0e069b9275f58929596ceb00d14d90e3e16cd6"
  },
  "kernelspec": {
   "display_name": "Python 3.8.9 64-bit",
   "language": "python",
   "name": "python3"
  },
  "language_info": {
   "codemirror_mode": {
    "name": "ipython",
    "version": 3
   },
   "file_extension": ".py",
   "mimetype": "text/x-python",
   "name": "python",
   "nbconvert_exporter": "python",
   "pygments_lexer": "ipython3",
   "version": "3.9.10"
  },
  "orig_nbformat": 4
 },
 "nbformat": 4,
 "nbformat_minor": 2
}
