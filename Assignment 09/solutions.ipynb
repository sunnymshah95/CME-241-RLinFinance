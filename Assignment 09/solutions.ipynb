{
 "cells": [
  {
   "cell_type": "code",
   "execution_count": 13,
   "metadata": {},
   "outputs": [],
   "source": [
    "import sys\n",
    "sys.path.append(\"../\")\n",
    "\n",
    "import numpy as np\n",
    "import itertools\n",
    "from dataclasses import dataclass, field\n",
    "from typing import Optional\n",
    "from rl.chapter9.order_book import *\n",
    "from rl.markov_process import *\n",
    "from rl.distribution import Choose, Distribution, Gaussian, SampledDistribution, Poisson"
   ]
  },
  {
   "cell_type": "code",
   "execution_count": 14,
   "metadata": {},
   "outputs": [],
   "source": [
    "@dataclass(frozen=True)\n",
    "class OrderBookSimulator(MarkovProcess):\n",
    "    transitions : Dict[str, Distribution]\n",
    "    num_orders : int\n",
    "    order_types : List[str]\n",
    "    order_weights : List[float]\n",
    "\n",
    "    def transition(self, state: OrderBook) -> Optional[Distribution[OrderBook]]:\n",
    "        if not state.ascending_asks or not state.descending_bids:\n",
    "            return None\n",
    "\n",
    "        next_states = []\n",
    "        for _ in range(self.num_orders):\n",
    "            order_type = np.random.choice(self.order_types, p=self.order_weights)\n",
    "            \n",
    "            if order_type == 'market-buy':\n",
    "                new_shares = self.transitions['market-shares'].sample()\n",
    "                _, next_state = state.buy_market_order(shares=new_shares)\n",
    "\n",
    "            elif order_type == 'market-sell':\n",
    "                new_shares = self.transitions['market-shares'].sample()\n",
    "                _, next_state = state.sell_market_order(shares=new_shares)\n",
    "            \n",
    "            elif order_type == 'limit-buy':\n",
    "                new_price = self.transitions['limit-price'].sample()\n",
    "                new_shares = self.transitions['limit-shares'].sample()\n",
    "                _, next_state = state.buy_limit_order(price=new_price, shares=new_shares)\n",
    "            \n",
    "            elif order_type == 'limit-sell':\n",
    "                new_price = self.transitions['limit-price'].sample()\n",
    "                new_shares = self.transitions['limit-shares'].sample()\n",
    "                _, next_state = state.sell_limit_order(price=new_price, shares=new_shares)\n",
    "\n",
    "            next_states.append(next_state)\n",
    "        \n",
    "        return Choose(next_states)"
   ]
  },
  {
   "cell_type": "code",
   "execution_count": 16,
   "metadata": {},
   "outputs": [
    {
     "name": "stdout",
     "output_type": "stream",
     "text": [
      "NonTerminal(state=OrderBook(descending_bids=[DollarsAndShares(dollars=71.55, shares=113), DollarsAndShares(dollars=71.53, shares=44), DollarsAndShares(dollars=49.35, shares=26), DollarsAndShares(dollars=46.63, shares=12), DollarsAndShares(dollars=21.21, shares=66)], ascending_asks=[DollarsAndShares(dollars=31.82, shares=114), DollarsAndShares(dollars=44.45, shares=99), DollarsAndShares(dollars=56.01, shares=12), DollarsAndShares(dollars=60.84, shares=103), DollarsAndShares(dollars=65.22, shares=117)]))\n"
     ]
    },
    {
     "data": {
      "image/png": "[encoded data removed]",
      "text/plain": [
       "<Figure size 432x288 with 1 Axes>"
      ]
     },
     "metadata": {
      "needs_background": "light"
     },
     "output_type": "display_data"
    }
   ],
   "source": [
    "num_asks = 5\n",
    "num_bids = 5\n",
    "\n",
    "prices : Sequence[float] = np.abs(np.random.normal(loc=50.0, scale=15, size=num_asks))\n",
    "shares : Sequence[int] = np.random.randint(10, 120, size=num_asks)\n",
    "\n",
    "asks_list = sorted([DollarsAndShares(dollars=round(p, 2), shares=s) for p, s in zip(prices, shares)], key=lambda x : x.dollars)\n",
    "\n",
    "prices : Sequence[float] = np.abs(np.random.normal(loc=50.0, scale=15, size=num_asks))\n",
    "shares : Sequence[int] = np.random.randint(10, 120, size=num_asks)\n",
    "\n",
    "bids_list = sorted([DollarsAndShares(dollars=round(p, 2), shares=s) for p, s in zip(prices, shares)], key=lambda x : x.dollars, reverse=True)\n",
    "\n",
    "\n",
    "\n",
    "book : OrderBook = NonTerminal(OrderBook(descending_bids=bids_list, ascending_asks=asks_list))\n",
    "# book = OrderBook(descending_bids=[], ascending_asks=[])\n",
    "print(book)\n",
    "book.state.display_order_book()"
   ]
  },
  {
   "cell_type": "code",
   "execution_count": 17,
   "metadata": {},
   "outputs": [],
   "source": [
    "transitions = {# 'market-shares' : Poisson(20),\n",
    "               'market-shares' : Gaussian(20, 4).apply(lambda x : Choose(list(x))), \n",
    "               'limit-price' : SampledDistribution(sampler=lambda : np.random.uniform(40, 61)), \n",
    "               'limit-shares' : SampledDistribution(sampler=lambda : np.random.randint(30, 41))}\n",
    "\n",
    "simulator = OrderBookSimulator(transitions=transitions, num_orders=10, order_types=['market-buy', 'market-sell', 'limit-buy', 'limit-sell'], order_weights=[0.0, 0.0, 0.5, 0.5])"
   ]
  },
  {
   "cell_type": "code",
   "execution_count": 19,
   "metadata": {},
   "outputs": [
    {
     "name": "stdout",
     "output_type": "stream",
     "text": [
      "NonTerminal(state=OrderBook(descending_bids=[DollarsAndShares(dollars=71.55, shares=113), DollarsAndShares(dollars=71.53, shares=44), DollarsAndShares(dollars=49.35, shares=26), DollarsAndShares(dollars=46.63, shares=12), DollarsAndShares(dollars=21.21, shares=66)], ascending_asks=[DollarsAndShares(dollars=31.82, shares=114), DollarsAndShares(dollars=44.45, shares=99), DollarsAndShares(dollars=56.01, shares=12), DollarsAndShares(dollars=60.84, shares=103), DollarsAndShares(dollars=65.22, shares=117)]))\n",
      "True\n"
     ]
    },
    {
     "ename": "AttributeError",
     "evalue": "'NonTerminal' object has no attribute 'ascending_asks'",
     "output_type": "error",
     "traceback": [
      "\u001b[0;31m---------------------------------------------------------------------------\u001b[0m",
      "\u001b[0;31mAttributeError\u001b[0m                            Traceback (most recent call last)",
      "\u001b[0;32m/var/folders/30/4m8g7n6n6692pdsg7v_fqlxc0000gn/T/ipykernel_31285/1145651150.py\u001b[0m in \u001b[0;36m<module>\u001b[0;34m\u001b[0m\n\u001b[1;32m      1\u001b[0m \u001b[0mob_generator\u001b[0m \u001b[0;34m=\u001b[0m \u001b[0msimulator\u001b[0m\u001b[0;34m.\u001b[0m\u001b[0msimulate\u001b[0m\u001b[0;34m(\u001b[0m\u001b[0mstart_state_distribution\u001b[0m\u001b[0;34m=\u001b[0m\u001b[0mChoose\u001b[0m\u001b[0;34m(\u001b[0m\u001b[0;34m[\u001b[0m\u001b[0mbook\u001b[0m\u001b[0;34m]\u001b[0m\u001b[0;34m)\u001b[0m\u001b[0;34m)\u001b[0m\u001b[0;34m\u001b[0m\u001b[0;34m\u001b[0m\u001b[0m\n\u001b[1;32m      2\u001b[0m \u001b[0;34m\u001b[0m\u001b[0m\n\u001b[0;32m----> 3\u001b[0;31m \u001b[0;32mfor\u001b[0m \u001b[0ms\u001b[0m \u001b[0;32min\u001b[0m \u001b[0mob_generator\u001b[0m\u001b[0;34m:\u001b[0m\u001b[0;34m\u001b[0m\u001b[0;34m\u001b[0m\u001b[0m\n\u001b[0m\u001b[1;32m      4\u001b[0m     \u001b[0mprint\u001b[0m\u001b[0;34m(\u001b[0m\u001b[0ms\u001b[0m\u001b[0;34m)\u001b[0m\u001b[0;34m\u001b[0m\u001b[0;34m\u001b[0m\u001b[0m\n",
      "\u001b[0;32m~/Desktop/Classes/CME 241/CME-241-RLinFinance/Assignment 09/../rl/markov_process.py\u001b[0m in \u001b[0;36msimulate\u001b[0;34m(self, start_state_distribution)\u001b[0m\n\u001b[1;32m     71\u001b[0m \u001b[0;34m\u001b[0m\u001b[0m\n\u001b[1;32m     72\u001b[0m         \u001b[0;32mwhile\u001b[0m \u001b[0misinstance\u001b[0m\u001b[0;34m(\u001b[0m\u001b[0mstate\u001b[0m\u001b[0;34m,\u001b[0m \u001b[0mNonTerminal\u001b[0m\u001b[0;34m)\u001b[0m\u001b[0;34m:\u001b[0m\u001b[0;34m\u001b[0m\u001b[0;34m\u001b[0m\u001b[0m\n\u001b[0;32m---> 73\u001b[0;31m             \u001b[0mstate\u001b[0m \u001b[0;34m=\u001b[0m \u001b[0mself\u001b[0m\u001b[0;34m.\u001b[0m\u001b[0mtransition\u001b[0m\u001b[0;34m(\u001b[0m\u001b[0mstate\u001b[0m\u001b[0;34m)\u001b[0m\u001b[0;34m.\u001b[0m\u001b[0msample\u001b[0m\u001b[0;34m(\u001b[0m\u001b[0;34m)\u001b[0m\u001b[0;34m\u001b[0m\u001b[0;34m\u001b[0m\u001b[0m\n\u001b[0m\u001b[1;32m     74\u001b[0m             \u001b[0;32myield\u001b[0m \u001b[0mstate\u001b[0m\u001b[0;34m\u001b[0m\u001b[0;34m\u001b[0m\u001b[0m\n\u001b[1;32m     75\u001b[0m \u001b[0;34m\u001b[0m\u001b[0m\n",
      "\u001b[0;32m/var/folders/30/4m8g7n6n6692pdsg7v_fqlxc0000gn/T/ipykernel_31285/251926707.py\u001b[0m in \u001b[0;36mtransition\u001b[0;34m(self, state)\u001b[0m\n\u001b[1;32m      8\u001b[0m     \u001b[0;32mdef\u001b[0m \u001b[0mtransition\u001b[0m\u001b[0;34m(\u001b[0m\u001b[0mself\u001b[0m\u001b[0;34m,\u001b[0m \u001b[0mstate\u001b[0m\u001b[0;34m:\u001b[0m \u001b[0mOrderBook\u001b[0m\u001b[0;34m)\u001b[0m \u001b[0;34m->\u001b[0m \u001b[0mOptional\u001b[0m\u001b[0;34m[\u001b[0m\u001b[0mDistribution\u001b[0m\u001b[0;34m[\u001b[0m\u001b[0mOrderBook\u001b[0m\u001b[0;34m]\u001b[0m\u001b[0;34m]\u001b[0m\u001b[0;34m:\u001b[0m\u001b[0;34m\u001b[0m\u001b[0;34m\u001b[0m\u001b[0m\n\u001b[1;32m      9\u001b[0m         \u001b[0mprint\u001b[0m\u001b[0;34m(\u001b[0m\u001b[0misinstance\u001b[0m\u001b[0;34m(\u001b[0m\u001b[0mstate\u001b[0m\u001b[0;34m,\u001b[0m \u001b[0mNonTerminal\u001b[0m\u001b[0;34m)\u001b[0m\u001b[0;34m)\u001b[0m\u001b[0;34m\u001b[0m\u001b[0;34m\u001b[0m\u001b[0m\n\u001b[0;32m---> 10\u001b[0;31m         \u001b[0;32mif\u001b[0m \u001b[0;32mnot\u001b[0m \u001b[0mstate\u001b[0m\u001b[0;34m.\u001b[0m\u001b[0mascending_asks\u001b[0m \u001b[0;32mor\u001b[0m \u001b[0;32mnot\u001b[0m \u001b[0mstate\u001b[0m\u001b[0;34m.\u001b[0m\u001b[0mdescending_bids\u001b[0m\u001b[0;34m:\u001b[0m\u001b[0;34m\u001b[0m\u001b[0;34m\u001b[0m\u001b[0m\n\u001b[0m\u001b[1;32m     11\u001b[0m             \u001b[0mprint\u001b[0m\u001b[0;34m(\u001b[0m\u001b[0;34m'hi'\u001b[0m\u001b[0;34m)\u001b[0m\u001b[0;34m\u001b[0m\u001b[0;34m\u001b[0m\u001b[0m\n\u001b[1;32m     12\u001b[0m             \u001b[0;32mreturn\u001b[0m \u001b[0;32mNone\u001b[0m\u001b[0;34m\u001b[0m\u001b[0;34m\u001b[0m\u001b[0m\n",
      "\u001b[0;31mAttributeError\u001b[0m: 'NonTerminal' object has no attribute 'ascending_asks'"
     ]
    }
   ],
   "source": [
    "ob_generator = simulator.simulate(start_state_distribution=Choose([book]))\n",
    "\n",
    "for s in ob_generator:\n",
    "    print(s)"
   ]
  },
  {
   "cell_type": "code",
   "execution_count": null,
   "metadata": {},
   "outputs": [
    {
     "name": "stdout",
     "output_type": "stream",
     "text": [
      "False\n",
      "hi\n"
     ]
    },
    {
     "ename": "AttributeError",
     "evalue": "'NoneType' object has no attribute 'sample'",
     "output_type": "error",
     "traceback": [
      "\u001b[0;31m---------------------------------------------------------------------------\u001b[0m",
      "\u001b[0;31mAttributeError\u001b[0m                            Traceback (most recent call last)",
      "\u001b[0;32m/var/folders/30/4m8g7n6n6692pdsg7v_fqlxc0000gn/T/ipykernel_31285/443696690.py\u001b[0m in \u001b[0;36m<module>\u001b[0;34m\u001b[0m\n\u001b[0;32m----> 1\u001b[0;31m \u001b[0msimulator\u001b[0m\u001b[0;34m.\u001b[0m\u001b[0mtransition\u001b[0m\u001b[0;34m(\u001b[0m\u001b[0mbook\u001b[0m\u001b[0;34m)\u001b[0m\u001b[0;34m.\u001b[0m\u001b[0msample\u001b[0m\u001b[0;34m(\u001b[0m\u001b[0;34m)\u001b[0m\u001b[0;34m\u001b[0m\u001b[0;34m\u001b[0m\u001b[0m\n\u001b[0m\u001b[1;32m      2\u001b[0m \u001b[0;34m\u001b[0m\u001b[0m\n",
      "\u001b[0;31mAttributeError\u001b[0m: 'NoneType' object has no attribute 'sample'"
     ]
    }
   ],
   "source": [
    "simulator.transition(book).sample()\n",
    "\n"
   ]
  }
 ],
 "metadata": {
  "interpreter": {
   "hash": "31f2aee4e71d21fbe5cf8b01ff0e069b9275f58929596ceb00d14d90e3e16cd6"
  },
  "kernelspec": {
   "display_name": "Python 3.8.9 64-bit",
   "language": "python",
   "name": "python3"
  },
  "language_info": {
   "codemirror_mode": {
    "name": "ipython",
    "version": 3
   },
   "file_extension": ".py",
   "mimetype": "text/x-python",
   "name": "python",
   "nbconvert_exporter": "python",
   "pygments_lexer": "ipython3",
   "version": "3.9.10"
  },
  "orig_nbformat": 4
 },
 "nbformat": 4,
 "nbformat_minor": 2
}
