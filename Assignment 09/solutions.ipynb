{
 "cells": [
  {
   "cell_type": "code",
   "execution_count": 1,
   "metadata": {},
   "outputs": [
    {
     "ename": "ModuleNotFoundError",
     "evalue": "No module named 'numpy'",
     "output_type": "error",
     "traceback": [
      "\u001b[0;31m---------------------------------------------------------------------------\u001b[0m",
      "\u001b[0;31mModuleNotFoundError\u001b[0m                       Traceback (most recent call last)",
      "\u001b[1;32m/Users/sunnymshah95/Desktop/Classes/CME 241/CME-241-RLinFinance/Assignment 09/solutions.ipynb Cell 1'\u001b[0m in \u001b[0;36m<module>\u001b[0;34m\u001b[0m\n\u001b[1;32m      <a href='vscode-notebook-cell:/Users/sunnymshah95/Desktop/Classes/CME%20241/CME-241-RLinFinance/Assignment%2009/solutions.ipynb#ch0000000?line=0'>1</a>\u001b[0m \u001b[39mimport\u001b[39;00m \u001b[39msys\u001b[39;00m\n\u001b[1;32m      <a href='vscode-notebook-cell:/Users/sunnymshah95/Desktop/Classes/CME%20241/CME-241-RLinFinance/Assignment%2009/solutions.ipynb#ch0000000?line=1'>2</a>\u001b[0m sys\u001b[39m.\u001b[39mpath\u001b[39m.\u001b[39mappend(\u001b[39m\"\u001b[39m\u001b[39m../\u001b[39m\u001b[39m\"\u001b[39m)\n\u001b[0;32m----> <a href='vscode-notebook-cell:/Users/sunnymshah95/Desktop/Classes/CME%20241/CME-241-RLinFinance/Assignment%2009/solutions.ipynb#ch0000000?line=3'>4</a>\u001b[0m \u001b[39mimport\u001b[39;00m \u001b[39mnumpy\u001b[39;00m \u001b[39mas\u001b[39;00m \u001b[39mnp\u001b[39;00m\n\u001b[1;32m      <a href='vscode-notebook-cell:/Users/sunnymshah95/Desktop/Classes/CME%20241/CME-241-RLinFinance/Assignment%2009/solutions.ipynb#ch0000000?line=4'>5</a>\u001b[0m \u001b[39mimport\u001b[39;00m \u001b[39mitertools\u001b[39;00m\n\u001b[1;32m      <a href='vscode-notebook-cell:/Users/sunnymshah95/Desktop/Classes/CME%20241/CME-241-RLinFinance/Assignment%2009/solutions.ipynb#ch0000000?line=5'>6</a>\u001b[0m \u001b[39mfrom\u001b[39;00m \u001b[39mdataclasses\u001b[39;00m \u001b[39mimport\u001b[39;00m dataclass, field\n",
      "\u001b[0;31mModuleNotFoundError\u001b[0m: No module named 'numpy'"
     ]
    }
   ],
   "source": [
    "import sys\n",
    "sys.path.append(\"../\")\n",
    "\n",
    "import numpy as np\n",
    "import itertools\n",
    "from dataclasses import dataclass, field\n",
    "from typing import Optional\n",
    "from rl.chapter9.order_book import *\n",
    "from rl.markov_process import *\n",
    "from rl.distribution import Choose, Distribution, Gaussian, SampledDistribution, Poisson"
   ]
  },
  {
   "cell_type": "code",
   "execution_count": null,
   "metadata": {},
   "outputs": [],
   "source": [
    "@dataclass(frozen=True)\n",
    "class OrderBookSimulator(MarkovProcess):\n",
    "    transitions : Dict[str, Distribution]\n",
    "    num_orders : int\n",
    "    order_types : List[str]\n",
    "    order_weights : List[float]\n",
    "\n",
    "    def transition(self, state: OrderBook) -> Optional[Distribution[OrderBook]]:\n",
    "        if not state.ascending_asks or not state.descending_bids:\n",
    "            return None\n",
    "\n",
    "        next_states = []\n",
    "        for _ in range(self.num_orders):\n",
    "            order_type = np.random.choice(self.order_types, p=self.order_weights)\n",
    "            \n",
    "            if order_type == 'market-buy':\n",
    "                _, next_state = state.buy_market_order(shares=self.transitions['market-shares'].sample())\n",
    "\n",
    "            elif order_type == 'market-sell':\n",
    "                _, next_state = state.sell_market_order(shares=self.transitions['market-shares'].sample())\n",
    "            \n",
    "            elif order_type == 'limit-buy':\n",
    "                _, next_state = state.buy_limit_order(price=self.transitions['limit-price'].sample(), shares=self.transitions['limit-shares'].sample())\n",
    "            \n",
    "            elif order_type == 'limit-sell':\n",
    "                _, next_state = state.sell_limit_order(price=self.transitions['limit-price'].sample(), shares=self.transitions['limit-shares'].sample())\n",
    "\n",
    "            next_states.append(next_state)\n",
    "        \n",
    "        return Choose(next_states)"
   ]
  },
  {
   "cell_type": "code",
   "execution_count": null,
   "metadata": {},
   "outputs": [
    {
     "name": "stdout",
     "output_type": "stream",
     "text": [
      "OrderBook(descending_bids=[DollarsAndShares(dollars=65.11, shares=57), DollarsAndShares(dollars=62.21, shares=25), DollarsAndShares(dollars=28.45, shares=119), DollarsAndShares(dollars=27.01, shares=64), DollarsAndShares(dollars=23.6, shares=77)], ascending_asks=[DollarsAndShares(dollars=30.05, shares=64), DollarsAndShares(dollars=33.52, shares=103), DollarsAndShares(dollars=40.27, shares=73), DollarsAndShares(dollars=46.99, shares=87), DollarsAndShares(dollars=64.27, shares=85)])\n"
     ]
    },
    {
     "data": {
      "image/png": "[encoded data removed]",
      "text/plain": [
       "<Figure size 432x288 with 1 Axes>"
      ]
     },
     "metadata": {
      "needs_background": "light"
     },
     "output_type": "display_data"
    }
   ],
   "source": [
    "num_asks = 5\n",
    "num_bids = 5\n",
    "\n",
    "prices : Sequence[float] = np.abs(np.random.normal(loc=50.0, scale=15, size=num_asks))\n",
    "shares : Sequence[int] = np.random.randint(10, 120, size=num_asks)\n",
    "\n",
    "asks_list = sorted([DollarsAndShares(dollars=round(p, 2), shares=s) for p, s in zip(prices, shares)], key=lambda x : x.dollars)\n",
    "\n",
    "prices : Sequence[float] = np.abs(np.random.normal(loc=50.0, scale=15, size=num_asks))\n",
    "shares : Sequence[int] = np.random.randint(10, 120, size=num_asks)\n",
    "\n",
    "bids_list = sorted([DollarsAndShares(dollars=round(p, 2), shares=s) for p, s in zip(prices, shares)], key=lambda x : x.dollars, reverse=True)\n",
    "\n",
    "\n",
    "\n",
    "book : OrderBook = OrderBook(descending_bids=bids_list, ascending_asks=asks_list)\n",
    "print(book)\n",
    "book.display_order_book()"
   ]
  },
  {
   "cell_type": "code",
   "execution_count": null,
   "metadata": {},
   "outputs": [],
   "source": [
    "transitions = {'market-shares' : Poisson(20),\n",
    "            #    'market-shares' : Gaussian(20, 4).apply(lambda x : abs(int(x))), \n",
    "               'limit-price' : SampledDistribution(sampler=np.random.uniform(40, 61)), \n",
    "               'limit-shares' : SampledDistribution(sampler=np.random.randint(30, 41))}\n",
    "\n",
    "simulator = OrderBookSimulator(transitions=transitions, num_orders=10, order_types=['market-buy', 'market-sell', 'limit-buy', 'limit-sell'], order_weights=[0.25] * 4)"
   ]
  },
  {
   "cell_type": "code",
   "execution_count": null,
   "metadata": {},
   "outputs": [
    {
     "name": "stdout",
     "output_type": "stream",
     "text": [
      "16\n"
     ]
    }
   ],
   "source": [
    "print(transitions['market-shares'].sample())"
   ]
  },
  {
   "cell_type": "code",
   "execution_count": null,
   "metadata": {},
   "outputs": [],
   "source": [
    "ob_traces = [state for state in simulator.simulate(start_state_distribution=Choose([book]))]"
   ]
  },
  {
   "cell_type": "code",
   "execution_count": null,
   "metadata": {},
   "outputs": [
    {
     "name": "stdout",
     "output_type": "stream",
     "text": [
      "OrderBook(descending_bids=[DollarsAndShares(dollars=65.11, shares=57), DollarsAndShares(dollars=62.21, shares=25), DollarsAndShares(dollars=28.45, shares=119), DollarsAndShares(dollars=27.01, shares=64), DollarsAndShares(dollars=23.6, shares=77)], ascending_asks=[DollarsAndShares(dollars=30.05, shares=64), DollarsAndShares(dollars=33.52, shares=103), DollarsAndShares(dollars=40.27, shares=73), DollarsAndShares(dollars=46.99, shares=87), DollarsAndShares(dollars=64.27, shares=85)])\n",
      "\n"
     ]
    }
   ],
   "source": [
    "for ob in ob_traces:\n",
    "    print(ob)\n",
    "    print()\n",
    "\n",
    "# print(simulator.transition(book).sample())"
   ]
  }
 ],
 "metadata": {
  "interpreter": {
   "hash": "31f2aee4e71d21fbe5cf8b01ff0e069b9275f58929596ceb00d14d90e3e16cd6"
  },
  "kernelspec": {
   "display_name": "Python 3.8.9 64-bit",
   "language": "python",
   "name": "python3"
  },
  "language_info": {
   "codemirror_mode": {
    "name": "ipython",
    "version": 3
   },
   "file_extension": ".py",
   "mimetype": "text/x-python",
   "name": "python",
   "nbconvert_exporter": "python",
   "pygments_lexer": "ipython3",
   "version": "3.8.9"
  },
  "orig_nbformat": 4
 },
 "nbformat": 4,
 "nbformat_minor": 2
}
