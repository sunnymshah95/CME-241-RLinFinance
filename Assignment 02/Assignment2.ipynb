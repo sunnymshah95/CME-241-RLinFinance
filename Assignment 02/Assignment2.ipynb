{
 "cells": [
  {
   "cell_type": "code",
   "execution_count": 13,
   "metadata": {},
   "outputs": [],
   "source": [
    "import sys\n",
    "sys.path.append(\"../\")\n",
    "from dataclasses import dataclass\n",
    "from typing import Mapping, Dict, Tuple\n",
    "from rl.distribution import Categorical, FiniteDistribution, Constant\n",
    "from rl.markov_process import FiniteMarkovProcess, FiniteMarkovRewardProcess, NonTerminal \n",
    "import matplotlib.pyplot as plt\n",
    "import itertools\n",
    "\n",
    "plt.rcParams['figure.figsize'] = (15, 7)"
   ]
  },
  {
   "cell_type": "markdown",
   "metadata": {},
   "source": [
    "# Question 1:\n",
    "The state space is: $S_t = \\{1, 2, \\cdots, 100\\}$ where 100 is the terminal state (we win the game when we reach 100).          \n",
    "The transition probability matrix is:\n",
    "$$\n",
    "\\mathcal{P}_{ij} = \n",
    "    \\begin{cases}\n",
    "        \\frac{1}{6}, & \\text{if state} ~ i ~ \\text{goes to state} ~ j\n",
    "        \\\\ 0, & \\text{otherwise}\n",
    "    \\end{cases}\n",
    "$$\n",
    "For example, if I were at state 12, then I have 6 different possibilities for the next state: 13, 14, 15, 16, 17, 18, or 19. If a ladder exists from 16 to 32, then $\\mathcal{P}_{12, 32} = \\frac{1}{6}$ and $\\mathcal{P}_{12, 16} = 0$ instead. We consider the case of a snake in a similar manner, except that here $i > j$.            \n",
    "# Question 2"
   ]
  },
  {
   "cell_type": "code",
   "execution_count": 14,
   "metadata": {},
   "outputs": [],
   "source": [
    "@dataclass(frozen=True)\n",
    "class State:\n",
    "\tposition : int \n",
    "\n",
    "\n",
    "\n",
    "class SnakesAndLaddersMP(FiniteMarkovProcess[State]):\n",
    "\tdef __init__(self, from_to : Mapping[State, State]):\n",
    "\t\t'''\n",
    "        @from_to lists the ladders and the snakes. \n",
    "        For example, if there was a ladder from state 43 to state 87,\n",
    "        then this would be represented in the dictionary as:\n",
    "        {State(position = 43) : State(position - 87)}, and so on.\n",
    "        '''\n",
    "\t\tself.from_to = from_to\n",
    "\t\tsuper().__init__(self.get_transition_map())\n",
    "\n",
    "\n",
    "\tdef get_transition_map(self) -> Mapping[State, FiniteDistribution[State]]:\n",
    "\t\td : Dict[State, FiniteDistribution[State]] = {}\n",
    "\n",
    "\t\tfor state in range(1, 100):\n",
    "\t\t\tstate_probs_map = {}\n",
    "\t\t\tnext_state = 0\n",
    "\t\t\t\n",
    "\t\t\tfor j in range(state + 1, min(101, state + 7)):\n",
    "\t\t\t\tif j in self.from_to.keys():\n",
    "\t\t\t\t\tnext_state = self.from_to[j]\n",
    "\t\t\t\telse:\n",
    "\t\t\t\t\tnext_state = j\n",
    "\n",
    "\t\t\t\tstate_probs_map[State(position = next_state)] = 1. / 6.\n",
    "\n",
    "            # If I'm at state 97, I need only a 3 to reach 100.\n",
    "            # If I get more than a 3, I stay in the same position.\n",
    "\t\t\tif state > 94:\n",
    "\t\t\t\tstate_probs_map[State(position = state)] = (state - 94.) / 6.\n",
    "\n",
    "\t\t\td[State(position = state)] = Categorical(state_probs_map)\n",
    "\n",
    "\t\treturn d"
   ]
  },
  {
   "cell_type": "markdown",
   "metadata": {},
   "source": [
    "### Create an instance of the Snakes and Ladders game"
   ]
  },
  {
   "cell_type": "code",
   "execution_count": 15,
   "metadata": {},
   "outputs": [],
   "source": [
    "changes_from = [1, 4, 9, 28, 36, 21, 51, 71, 80, 16, 47, 49, 56, 64, 87, 93, 95, 98]\n",
    "changes_to = [38, 14, 31, 84, 44, 42, 67, 91, 100, 6, 26, 11, 53, 60, 24, 73, 75, 78]\n",
    "\n",
    "from_to = {fr : to for fr, to in zip(changes_from, changes_to)}\n",
    "game = SnakesAndLaddersMP(from_to = from_to)\n",
    "\n",
    "# print(\"Transition Map\")\n",
    "# print(\"----------------\")\n",
    "# print(game)"
   ]
  },
  {
   "cell_type": "markdown",
   "metadata": {},
   "source": [
    "### Generate the constant distribution of the starting states and generate traces of the game and count the total number of dice rolls needed per game to finish it"
   ]
  },
  {
   "cell_type": "code",
   "execution_count": 16,
   "metadata": {},
   "outputs": [],
   "source": [
    "start_distribution = Constant(value = NonTerminal(State(position = 1)))\n",
    "num_traces = 10000\n",
    "\n",
    "outcomes = [len([st for st in it]) for it in itertools.islice(game.traces(start_distribution), num_traces)]"
   ]
  },
  {
   "cell_type": "markdown",
   "metadata": {},
   "source": [
    "### Plot the histogram of the time steps (number of dice rolls)"
   ]
  },
  {
   "cell_type": "code",
   "execution_count": 17,
   "metadata": {},
   "outputs": [
    {
     "data": {
      "image/png": "[encoded data removed]",
      "text/plain": [
       "<Figure size 1080x504 with 1 Axes>"
      ]
     },
     "metadata": {
      "needs_background": "light"
     },
     "output_type": "display_data"
    }
   ],
   "source": [
    "plt.hist(outcomes)\n",
    "\n",
    "plt.xlabel('Time to complete a game of Snakes and Ladders')\n",
    "plt.ylabel('Frequency')\n",
    "plt.title(\"Probability Distribution of the Time Taken to Finish Snakes and Ladders\")\n",
    "plt.show()"
   ]
  },
  {
   "cell_type": "markdown",
   "metadata": {},
   "source": [
    "# Question 3"
   ]
  },
  {
   "cell_type": "code",
   "execution_count": 18,
   "metadata": {},
   "outputs": [],
   "source": [
    "@dataclass(frozen=True)\n",
    "class State:\n",
    "\tposition : int\n",
    "\n",
    "\n",
    "class FrogPuzzle(FiniteMarkovProcess[State]):\n",
    "\tlength : int = 0 # this is the length of the river between the two banks\n",
    "\n",
    "\tdef __init__(self, length : int):\n",
    "\t\tself.length = length\n",
    "\t\tsuper().__init__(self.get_transition_map())\n",
    "\n",
    "\tdef get_transition_map(self) -> Mapping[State, FiniteDistribution[State]]:\n",
    "\t\td : Dict[State, FiniteDistribution[State]] = {}\n",
    "\n",
    "\t\tfor state in range(1, self.length + 2):\n",
    "\t\t\tstate_prob_map = {}\n",
    "\t\t\tfor next_state in range(state + 1, self.length + 3):\n",
    "\t\t\t\tstate_prob_map[State(position=next_state)] = 1. / (self.length - state + 2)\n",
    "\n",
    "\t\t\td[State(position = state)] = Categorical(state_prob_map)\n",
    "\n",
    "\t\treturn d"
   ]
  },
  {
   "cell_type": "markdown",
   "metadata": {},
   "source": [
    "### Create an instance of the Markov process"
   ]
  },
  {
   "cell_type": "code",
   "execution_count": 19,
   "metadata": {},
   "outputs": [],
   "source": [
    "L = 20\n",
    "\n",
    "puzzle = FrogPuzzle(L)\n",
    "# print(\"Transition Map\")\n",
    "# print(\"----------------\")\n",
    "# print(puzzle)"
   ]
  },
  {
   "cell_type": "markdown",
   "metadata": {},
   "source": [
    "### Generate traces of it and get the total number of jumps required to get to the other side of the river"
   ]
  },
  {
   "cell_type": "code",
   "execution_count": 20,
   "metadata": {},
   "outputs": [],
   "source": [
    "start_distribution = Constant(value = NonTerminal(State(position = 1)))\n",
    "num_traces = 10000\n",
    "\n",
    "outcomes = [len([i for i in trace]) for trace in itertools.islice(puzzle.traces(start_distribution), num_traces)]"
   ]
  },
  {
   "cell_type": "markdown",
   "metadata": {},
   "source": [
    "### Plot a histogram of the jumps required to get to the other side of the river"
   ]
  },
  {
   "cell_type": "code",
   "execution_count": 21,
   "metadata": {},
   "outputs": [
    {
     "data": {
      "image/png": "[encoded data removed]",
      "text/plain": [
       "<Figure size 1080x504 with 1 Axes>"
      ]
     },
     "metadata": {
      "needs_background": "light"
     },
     "output_type": "display_data"
    }
   ],
   "source": [
    "plt.hist(outcomes)\n",
    "\n",
    "plt.xlabel('Steps to get to the other side of the river')\n",
    "plt.ylabel('Frequency')\n",
    "plt.title(\"Probability Distribution of the steps needed to get to the other side of the river\")\n",
    "plt.show()"
   ]
  },
  {
   "cell_type": "markdown",
   "metadata": {},
   "source": [
    "# Question 4\n",
    "Here I recreate the Snakes and Ladders game, but with rewards associated with each state. In order to find the expected number of dice rolls to finish a game, I set the rewards of all states to 1."
   ]
  },
  {
   "cell_type": "code",
   "execution_count": 22,
   "metadata": {},
   "outputs": [],
   "source": [
    "@dataclass(frozen=True)\n",
    "class State:\n",
    "\tposition : int \n",
    "\n",
    "class SnakesAndLaddersMRP(FiniteMarkovRewardProcess[State]):\n",
    "\tdef __init__(self, from_to : Mapping[State, State]):\n",
    "\t\tself.from_to = from_to\n",
    "\t\tsuper().__init__(self.get_transition_reward_map())\n",
    "\n",
    "\tdef get_transition_reward_map(self) -> Mapping[State, FiniteDistribution[Tuple[State, float]]]:\n",
    "\t\td : Dict[State, FiniteDistribution[Tuple[State, float]]] = {}\n",
    "\t\treward = 1\n",
    "\n",
    "\t\tfor state in range(1, 100):\n",
    "\t\t\tstate_probs_map = {}\n",
    "\t\t\tnext_state = 0\n",
    "\t\t\t\n",
    "\t\t\tfor j in range(state + 1, min(101, state + 7)):\n",
    "\t\t\t\tif j in self.from_to.keys():\n",
    "\t\t\t\t\tnext_state = self.from_to[j]\n",
    "\t\t\t\telse:\n",
    "\t\t\t\t\tnext_state = j\n",
    "\n",
    "\t\t\t\tstate_probs_map[(State(position = next_state), reward)] = 1. / 6.\n",
    "\n",
    "\t\t\tif state > 94:\n",
    "\t\t\t\tstate_probs_map[(State(position = state), reward)] = (state - 94.) / 6.\n",
    "\n",
    "\t\t\td[State(position = state)] = Categorical(state_probs_map)\n",
    "\n",
    "\t\treturn d"
   ]
  },
  {
   "cell_type": "markdown",
   "metadata": {},
   "source": [
    "### Create an instance of the game"
   ]
  },
  {
   "cell_type": "code",
   "execution_count": 23,
   "metadata": {},
   "outputs": [],
   "source": [
    "changes_from = [1, 4, 9, 28, 36, 21, 51, 71, 80, \\\n",
    "                16, 47, 49, 56, 64, 87, 93, 95, 98]\n",
    "changes_to = [38, 14, 31, 84, 44, 42, 67, 91, 100, \\\n",
    "                6, 26, 11, 53, 60, 24, 73, 75, 78]\n",
    "\n",
    "from_to = {fr : to for fr, to in zip(changes_from, changes_to)}\n",
    "game = SnakesAndLaddersMRP(from_to = from_to)\n",
    "gamma = 1.0 # the discount factor\n",
    "\n",
    "# print(\"Transition Map\")\n",
    "# print(\"--------------\")\n",
    "# print(FiniteMarkovProcess({s.state: Categorical({s1.state: p for s1, p in v.table().items()}) \\\n",
    "#                                     for s, v in game.transition_map.items()}))\n",
    "\n",
    "# print()\n",
    "# print(\"Transition Reward Map\")\n",
    "# print(\"----------------\")\n",
    "# print(game)\n",
    "\n",
    "# print()\n",
    "# print(\"Reward Function\")\n",
    "# print(\"----------------\")\n",
    "# game.display_reward_function()\n",
    "\n",
    "# print()\n",
    "# print(\"Value Function\")\n",
    "# print(\"----------------\")\n",
    "# game.display_value_function(gamma = gamma)"
   ]
  },
  {
   "cell_type": "markdown",
   "metadata": {},
   "source": [
    "### Use Monte Carlo simulations to find the expected number of dice rolls to win the game and compare this with the value obtained using Markov reward processes:"
   ]
  },
  {
   "cell_type": "code",
   "execution_count": 24,
   "metadata": {},
   "outputs": [
    {
     "name": "stdout",
     "output_type": "stream",
     "text": [
      "The expected number of dice rolls (using the value function) is 36.819.\n",
      "The expected number of dice rolls (using Monte Carlo)        is 36.787.\n"
     ]
    }
   ],
   "source": [
    "val = game.get_value_function_vec(gamma = gamma)\n",
    "print(f\"The expected number of dice rolls (using the value function) is {val[0]:.3f}.\")\n",
    "\n",
    "start_distribution = Constant(value = NonTerminal(State(position = 1)))\n",
    "num_traces = 10000\n",
    "outcomes = [len([st for st in it]) for it in itertools.islice(game.reward_traces(start_distribution), num_traces)]\n",
    "print(f\"The expected number of dice rolls (using Monte Carlo)        is {sum(outcomes) / num_traces:.3f}.\")"
   ]
  }
 ],
 "metadata": {
  "interpreter": {
   "hash": "b0fa6594d8f4cbf19f97940f81e996739fb7646882a419484c72d19e05852a7e"
  },
  "kernelspec": {
   "display_name": "Python 3.9.10 64-bit",
   "language": "python",
   "name": "python3"
  },
  "language_info": {
   "codemirror_mode": {
    "name": "ipython",
    "version": 3
   },
   "file_extension": ".py",
   "mimetype": "text/x-python",
   "name": "python",
   "nbconvert_exporter": "python",
   "pygments_lexer": "ipython3",
   "version": "3.9.10"
  },
  "orig_nbformat": 4
 },
 "nbformat": 4,
 "nbformat_minor": 2
}
