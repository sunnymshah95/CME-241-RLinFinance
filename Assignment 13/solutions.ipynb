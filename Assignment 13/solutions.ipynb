{
 "cells": [
  {
   "cell_type": "code",
   "execution_count": 20,
   "metadata": {},
   "outputs": [],
   "source": [
    "import sys \n",
    "sys.path.append(\"../\")\n",
    "\n",
    "import numpy as np \n",
    "from pprint import pprint\n",
    "from typing import TypeVar, Iterable, Mapping, Dict\n",
    "import matplotlib.pyplot as plt \n",
    "import rl.markov_process as mp\n",
    "import itertools\n",
    "import rl.markov_decision_process as mdp\n",
    "import rl.td as td \n",
    "# import rl.chapter3.simple_inventory_mdp_cap as simdp \n",
    "from rl.chapter3.simple_inventory_mdp_cap import InventoryState, SimpleInventoryMDPCap\n",
    "import rl.monte_carlo as mc\n",
    "import rl.chapter11.control_utils as control"
   ]
  },
  {
   "cell_type": "markdown",
   "metadata": {},
   "source": [
    "### The original MDP to test the Tabular MC with GLIE with:"
   ]
  },
  {
   "cell_type": "code",
   "execution_count": 21,
   "metadata": {},
   "outputs": [
    {
     "name": "stdout",
     "output_type": "stream",
     "text": [
      "MDP Policy Iteration: Optimal Value Function and Optimal Policy\n",
      "----------------------------------------------------------------------\n",
      "{NonTerminal(state=InventoryState(on_hand=1, on_order=1)): -28.992,\n",
      " NonTerminal(state=InventoryState(on_hand=2, on_order=0)): -29.992,\n",
      " NonTerminal(state=InventoryState(on_hand=0, on_order=2)): -27.992,\n",
      " NonTerminal(state=InventoryState(on_hand=0, on_order=1)): -27.661,\n",
      " NonTerminal(state=InventoryState(on_hand=0, on_order=0)): -34.895,\n",
      " NonTerminal(state=InventoryState(on_hand=1, on_order=0)): -28.661}\n",
      "\n",
      "For State InventoryState(on_hand=0, on_order=0): Do Action 1\n",
      "For State InventoryState(on_hand=0, on_order=1): Do Action 1\n",
      "For State InventoryState(on_hand=0, on_order=2): Do Action 0\n",
      "For State InventoryState(on_hand=1, on_order=0): Do Action 1\n",
      "For State InventoryState(on_hand=1, on_order=1): Do Action 0\n",
      "For State InventoryState(on_hand=2, on_order=0): Do Action 0\n",
      "\n"
     ]
    }
   ],
   "source": [
    "user_capacity = 2\n",
    "user_poisson_lambda = 1.0\n",
    "user_holding_cost = 1.0\n",
    "user_stockout_cost = 10.0\n",
    "\n",
    "user_gamma = 0.9\n",
    "\n",
    "si_mdp: mdp.FiniteMarkovDecisionProcess[InventoryState, int] =\\\n",
    "    SimpleInventoryMDPCap(\n",
    "        capacity=user_capacity,\n",
    "        poisson_lambda=user_poisson_lambda,\n",
    "        holding_cost=user_holding_cost,\n",
    "        stockout_cost=user_stockout_cost\n",
    "    )\n",
    "\n",
    "from rl.dynamic_programming import policy_iteration_result\n",
    "from rl.dynamic_programming import value_iteration_result\n",
    "\n",
    "print(\"MDP Policy Iteration: Optimal Value Function and Optimal Policy\")\n",
    "print(\"--------------\" * 5)\n",
    "opt_vf_pi, opt_policy_pi = policy_iteration_result(\n",
    "    si_mdp,\n",
    "    gamma=user_gamma\n",
    ")\n",
    "pprint({k : round(v, 3) for k, v in opt_vf_pi.items()})\n",
    "print()\n",
    "print(opt_policy_pi)"
   ]
  },
  {
   "cell_type": "markdown",
   "metadata": {},
   "source": [
    "### Tabular Monte Carlo with GLIE:"
   ]
  },
  {
   "cell_type": "code",
   "execution_count": 41,
   "metadata": {},
   "outputs": [
    {
     "name": "stdout",
     "output_type": "stream",
     "text": [
      "Value Function from Tabular Monte Carlo Control with GLIE:\n",
      "----------------------------------------\n",
      "{NonTerminal(state=InventoryState(on_hand=0, on_order=0)): -34.906,\n",
      " NonTerminal(state=InventoryState(on_hand=2, on_order=0)): -30.003,\n",
      " NonTerminal(state=InventoryState(on_hand=1, on_order=1)): -29.012,\n",
      " NonTerminal(state=InventoryState(on_hand=1, on_order=0)): -28.695,\n",
      " NonTerminal(state=InventoryState(on_hand=0, on_order=2)): -28.117,\n",
      " NonTerminal(state=InventoryState(on_hand=0, on_order=1)): -27.675}\n",
      "\n",
      "{NonTerminal(state=InventoryState(on_hand=0, on_order=0)): 1,\n",
      " NonTerminal(state=InventoryState(on_hand=2, on_order=0)): 0,\n",
      " NonTerminal(state=InventoryState(on_hand=1, on_order=1)): 0,\n",
      " NonTerminal(state=InventoryState(on_hand=1, on_order=0)): 1,\n",
      " NonTerminal(state=InventoryState(on_hand=0, on_order=2)): 0,\n",
      " NonTerminal(state=InventoryState(on_hand=0, on_order=1)): 1}\n"
     ]
    }
   ],
   "source": [
    "num_traces = 100\n",
    "num_episodes = 100\n",
    "\n",
    "glie_it = control.glie_mc_finite_control_equal_wts(fmdp=si_mdp,\n",
    "                                              gamma=user_gamma,\n",
    "                                              epsilon_as_func_of_episodes=lambda k : k ** (-1.),\n",
    "                                              episode_length_tolerance=1e-3)\n",
    "\n",
    "*_, mc_vf = itertools.islice(glie_it, num_traces * num_episodes)\n",
    "\n",
    "opt_vf_pi = {s : max((round(v, 3) for (st, a), v in mc_vf.values_map.items() if s == st)) for s in si_mdp.non_terminal_states}\n",
    "opt_policy_pi = {s : max(((a, v) for (st, a), v in mc_vf.values_map.items() if s == st), key=lambda x : x[1])[0] for s in si_mdp.non_terminal_states}\n",
    "\n",
    "print(\"Value Function from Tabular Monte Carlo Control with GLIE:\")\n",
    "print(\"--\" * 20)\n",
    "pprint(opt_vf_pi)\n",
    "print()\n",
    "pprint(opt_policy_pi)"
   ]
  },
  {
   "cell_type": "code",
   "execution_count": null,
   "metadata": {},
   "outputs": [],
   "source": []
  }
 ],
 "metadata": {
  "interpreter": {
   "hash": "b0fa6594d8f4cbf19f97940f81e996739fb7646882a419484c72d19e05852a7e"
  },
  "kernelspec": {
   "display_name": "Python 3.9.10 64-bit",
   "language": "python",
   "name": "python3"
  },
  "language_info": {
   "codemirror_mode": {
    "name": "ipython",
    "version": 3
   },
   "file_extension": ".py",
   "mimetype": "text/x-python",
   "name": "python",
   "nbconvert_exporter": "python",
   "pygments_lexer": "ipython3",
   "version": "3.9.10"
  },
  "orig_nbformat": 4
 },
 "nbformat": 4,
 "nbformat_minor": 2
}
