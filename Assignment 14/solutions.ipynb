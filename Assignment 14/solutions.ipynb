{
 "cells": [
  {
   "cell_type": "code",
   "execution_count": 12,
   "metadata": {},
   "outputs": [],
   "source": [
    "import sys \n",
    "sys.path.append(\"../\")\n",
    "\n",
    "import numpy as np \n",
    "from pprint import pprint\n",
    "from typing import TypeVar, Iterable, Callable, Sequence\n",
    "import matplotlib.pyplot as plt \n",
    "from rl.markov_process import NonTerminal, TransitionStep\n",
    "import itertools\n",
    "from rl.markov_decision_process import FiniteMarkovDecisionProcess\n",
    "from rl.distribution import Choose\n",
    "from rl.function_approx import LinearFunctionApprox, Weights\n",
    "import rl.policy as policy"
   ]
  },
  {
   "cell_type": "markdown",
   "metadata": {},
   "source": [
    "### Question 1: implementing LSTD algorithm from scratch"
   ]
  },
  {
   "cell_type": "code",
   "execution_count": 22,
   "metadata": {},
   "outputs": [],
   "source": [
    "S = TypeVar(\"S\")\n",
    "A = TypeVar(\"A\")\n",
    "\n",
    "def LSTD(traces : Iterable[TransitionStep[S]], feature_functions : Sequence[Callable[[NonTerminal[S]], float]],\n",
    "         gamma : float, epsilon : float) -> LinearFunctionApprox[NonTerminal[S]]:\n",
    "    num_features : int = len(feature_functions)\n",
    "    A_inv : np.array = np.eye(num_features)\n",
    "    b_vec : np.array = np.zeros(num_features)\n",
    "\n",
    "    for step in traces:\n",
    "        state, next_state, reward = step.state, step.next_state, step.reward\n",
    "        u = np.array([f(state) for f in feature_functions])\n",
    "        v = u\n",
    "\n",
    "        if isinstance(next_state, NonTerminal):\n",
    "            v -= gamma * np.array([f(next_state) for f in feature_functions])\n",
    "\n",
    "        # updating the inverse of A using Sherman-Morrison-Woodbury formula\n",
    "        A_inv -= (A_inv @ np.outer(u, v) @ A_inv) / (1 + v @ A_inv @ u)\n",
    "        b_vec += reward * u\n",
    "    \n",
    "    # find the optimal weights\n",
    "    w_star : np.array = A_inv @ b_vec\n",
    "    return LinearFunctionApprox.create(feature_functions=feature_functions, weights=Weights.create(w_star))"
   ]
  },
  {
   "cell_type": "markdown",
   "metadata": {},
   "source": [
    "#### Testing the LSTD algorithm on an already-solved MRP"
   ]
  },
  {
   "cell_type": "code",
   "execution_count": 23,
   "metadata": {},
   "outputs": [
    {
     "name": "stdout",
     "output_type": "stream",
     "text": [
      "Exact Value Function:\n",
      "----------------------------------------\n",
      "{NonTerminal(state=InventoryState(on_hand=2, on_order=0)): -30.345,\n",
      " NonTerminal(state=InventoryState(on_hand=0, on_order=1)): -27.932,\n",
      " NonTerminal(state=InventoryState(on_hand=0, on_order=0)): -35.511,\n",
      " NonTerminal(state=InventoryState(on_hand=1, on_order=0)): -28.932,\n",
      " NonTerminal(state=InventoryState(on_hand=1, on_order=1)): -29.345,\n",
      " NonTerminal(state=InventoryState(on_hand=0, on_order=2)): -28.345}\n",
      "\n"
     ]
    }
   ],
   "source": [
    "from rl.chapter2.simple_inventory_mrp import *\n",
    "\n",
    "user_capacity = 2\n",
    "user_poisson_lambda = 1.0\n",
    "user_holding_cost = 1.0\n",
    "user_stockout_cost = 10.0\n",
    "user_gamma = 0.9\n",
    "\n",
    "si_mrp = SimpleInventoryMRPFinite(capacity=user_capacity,\n",
    "                                  poisson_lambda=user_poisson_lambda,\n",
    "                                  holding_cost=user_holding_cost,\n",
    "                                  stockout_cost=user_stockout_cost)\n",
    "\n",
    "print(\"Exact Value Function:\")\n",
    "print(\"--\" * 20)\n",
    "si_mrp.display_value_function(gamma=user_gamma)\n",
    "print()"
   ]
  },
  {
   "cell_type": "code",
   "execution_count": 24,
   "metadata": {},
   "outputs": [
    {
     "name": "stdout",
     "output_type": "stream",
     "text": [
      "{NonTerminal(state=InventoryState(on_hand=2, on_order=0)): -31.081,\n",
      " NonTerminal(state=InventoryState(on_hand=0, on_order=1)): -28.861,\n",
      " NonTerminal(state=InventoryState(on_hand=0, on_order=0)): -31.003,\n",
      " NonTerminal(state=InventoryState(on_hand=1, on_order=0)): -31.042,\n",
      " NonTerminal(state=InventoryState(on_hand=1, on_order=1)): -28.9,\n",
      " NonTerminal(state=InventoryState(on_hand=0, on_order=2)): -26.718}\n"
     ]
    }
   ],
   "source": [
    "num_episodes = 1000\n",
    "num_steps = 100\n",
    "epsilon = 0.01\n",
    "\n",
    "ffs = [(lambda _ : 1.0), (lambda s : s.state.on_hand), (lambda s : s.state.on_order)]\n",
    "traces = itertools.chain.from_iterable(si_mrp.reward_traces(Choose(si_mrp.non_terminal_states)))\n",
    "\n",
    "lstd_qf = LSTD(traces=itertools.islice(traces, num_episodes * num_steps), feature_functions=ffs, gamma=user_gamma, epsilon=epsilon)\n",
    "\n",
    "pprint({s : round(lstd_qf(s), 3) for s in si_mrp.non_terminal_states})"
   ]
  },
  {
   "cell_type": "markdown",
   "metadata": {},
   "source": [
    "### Question 3: implementing LSPI for American options-pricing"
   ]
  },
  {
   "cell_type": "code",
   "execution_count": null,
   "metadata": {},
   "outputs": [],
   "source": []
  }
 ],
 "metadata": {
  "interpreter": {
   "hash": "b0fa6594d8f4cbf19f97940f81e996739fb7646882a419484c72d19e05852a7e"
  },
  "kernelspec": {
   "display_name": "Python 3.9.10 64-bit",
   "language": "python",
   "name": "python3"
  },
  "language_info": {
   "codemirror_mode": {
    "name": "ipython",
    "version": 3
   },
   "file_extension": ".py",
   "mimetype": "text/x-python",
   "name": "python",
   "nbconvert_exporter": "python",
   "pygments_lexer": "ipython3",
   "version": "3.9.10"
  },
  "orig_nbformat": 4
 },
 "nbformat": 4,
 "nbformat_minor": 2
}
